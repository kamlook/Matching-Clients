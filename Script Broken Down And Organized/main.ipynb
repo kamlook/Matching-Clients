{
 "cells": [
  {
   "cell_type": "code",
   "execution_count": 1,
   "metadata": {},
   "outputs": [],
   "source": [
    "# -*- coding: utf-8 -*-\n",
    "\"\"\"\n",
    "Created on Thu Jul  2 15:01:53 2020\n",
    "@author: Kam Look\n",
    "\"\"\"\n",
    "import parseTrans\n",
    "import bondAndComp\n",
    "import postCompClean"
   ]
  },
  {
   "cell_type": "markdown",
   "metadata": {},
   "source": [
    "This will only be for rapid testing and viewing dataframes. Real edits and edits to functions should be done in Sublime or text editor of choice"
   ]
  },
  {
   "cell_type": "code",
   "execution_count": 2,
   "metadata": {},
   "outputs": [],
   "source": [
    "pathCities = r'D:\\PPI Matching Names\\Cities'\n",
    "pathSpecDis = r'D:\\PPI Matching Names\\Special Districts'\n",
    "pathCounties = r'D:\\PPI Matching Names\\Counties'\n",
    "pathBond = r'D:\\PPI Matching Names\\BondAdaptPeople-Data.csv'"
   ]
  },
  {
   "cell_type": "code",
   "execution_count": 3,
   "metadata": {},
   "outputs": [],
   "source": [
    "pathConstruct = r'D:\\PPI Matching Names\\PossibleJobs\\construction.csv'\n",
    "pathEng1 = r'D:\\PPI Matching Names\\PossibleJobs\\engineer1.csv'\n",
    "pathEngSupp = r'D:\\PPI Matching Names\\PossibleJobs\\Engineering Support.csv'\n",
    "pathPlanning = r'D:\\PPI Matching Names\\PossibleJobs\\planning.csv'\n",
    "pathHR = r'D:\\PPI Matching Names\\PossibleJobs\\HR.csv'"
   ]
  },
  {
   "cell_type": "code",
   "execution_count": 7,
   "metadata": {},
   "outputs": [],
   "source": [
    "paths = [pathPlanning, pathHR, pathConstruct, pathEngSupp, pathEng1] # will be iterated through    \n",
    "    \n",
    "    \n",
    "def main(pathCA, pathBond, paths=None):\n",
    "    '''\n",
    "    INPUTS\n",
    "    str     pathCA: path to directory with Transparent California Files\n",
    "    str     pathBond: path to Bond-People csv\n",
    "    list    paths: list of paths bond files with unique job titles\n",
    "    '''\n",
    "            \n",
    "    _, jobsDF, filterTag = parseTrans.parse_transparent_data(pathCA,paths)\n",
    "    bondDF = bondAndComp.parse_bond_data(pathBond)\n",
    "    comp_trans_only, comp_shared = bondAndComp.compare_dataframes(bondDF, jobsDF)\n",
    "    comp_shared['Confidence Level'] = comp_shared.apply(lambda row: postCompClean.confidence_matching(row['Job Title Bond'], row['Job Title'],\n",
    "                                                                                        row['Bond Company'], row['Agency']),axis=1)\n",
    "    comp_shared['Action'] = comp_shared.apply(lambda row: postCompClean.define_action(row['Confidence Level']), axis=1)\n",
    "    #only comment keeping beacuse kinda proud of the below line \n",
    "    #comp_shared['Action'] = comp_shared.apply(lambda row:'Keep' if row['Confidence Level'] =='Very High' or row['Confidence Level']=='High' else 'Leave', axis=1)\n",
    "    pathShared = postCompClean.saving_csv(comp_trans_only, comp_shared, filterTag)\n",
    "    pathShared = 'D:\\PPI Matching Names\\SharedPeople\\hrSharedBACKUP.csv' # path used for testing that has all manual check removed \n",
    "    comp_trans_only, keepDF = postCompClean.manual_edits(pathShared,comp_trans_only) # if i can call this returning final, that would be nice\n",
    "    \n",
    "    \n",
    "    return comp_trans_only, keepDF"
   ]
  },
  {
   "cell_type": "code",
   "execution_count": 22,
   "metadata": {
    "scrolled": true
   },
   "outputs": [
    {
     "name": "stderr",
     "output_type": "stream",
     "text": [
      "D:\\Anaconda\\lib\\site-packages\\ipykernel_launcher.py:2: DtypeWarning: Columns (2) have mixed types.Specify dtype option on import or set low_memory=False.\n",
      "  \n"
     ]
    },
    {
     "name": "stdout",
     "output_type": "stream",
     "text": [
      "No path returned, using built-in system values\n",
      "1: Planners\n",
      "2: HR\n",
      "3: Construction\n",
      "4: Engineering Support\n",
      "5: Engineering 1\n",
      "6: No extra filter\n",
      "Choose extra filter from selection above: 1\n",
      "Reading Time: 0:00:00.492714\n",
      "Sorting and Selecting Time: 0:00:02.772409\n",
      "Total time: 0:00:03.268122\n",
      "What kind of area are you searching? \n",
      "[City, SpecDist, or County]County\n",
      "\n",
      "Once all manual checks have been addressed save and close the file \n",
      "Type and submit \"Enter\" to continue  enter\n"
     ]
    }
   ],
   "source": [
    "'Testing Main'\n",
    "CTO, CS = main(pathCounties,pathBond)\n"
   ]
  },
  {
   "cell_type": "code",
   "execution_count": null,
   "metadata": {},
   "outputs": [],
   "source": [
    "'Cell for identifying dupes'\n",
    "#May be able to get away with removing dupes at the very very end. \n",
    "\n",
    "#CTO=CTO.drop(columns=['_merge','Action'])\n",
    "#CTO.to_csv('combinedInfo.csv', index=False)\n",
    "final_dupes = CTO[CTO.duplicated(['First Name','Last Name'],keep=False)]\n",
    "#CTO\n",
    "final_dupes.to_csv('FinalDupes_needsChecking.csv',index=False)\n",
    "final_dupes"
   ]
  },
  {
   "cell_type": "code",
   "execution_count": 6,
   "metadata": {},
   "outputs": [],
   "source": [
    "'Exporting DataFrames, CTO and CS'\n",
    "# CTO: All employees ready to be contacted, employees not in bond data base\n",
    "#CS: Employees we are very confident are in the bond database, don't need to contact them. \n",
    "CTO.to_csv('SpecDistCheck_trans.csv',index=False)\n",
    "CS.to_csv('SpecDistCheck_shared.csv',index=False)"
   ]
  }
 ],
 "metadata": {
  "kernelspec": {
   "display_name": "Python 3",
   "language": "python",
   "name": "python3"
  },
  "language_info": {
   "codemirror_mode": {
    "name": "ipython",
    "version": 3
   },
   "file_extension": ".py",
   "mimetype": "text/x-python",
   "name": "python",
   "nbconvert_exporter": "python",
   "pygments_lexer": "ipython3",
   "version": "3.7.7"
  }
 },
 "nbformat": 4,
 "nbformat_minor": 2
}
